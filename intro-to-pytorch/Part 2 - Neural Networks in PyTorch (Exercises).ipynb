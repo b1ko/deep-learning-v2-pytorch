{
 "cells": [
  {
   "cell_type": "markdown",
   "metadata": {},
   "source": [
    "# Neural networks with PyTorch\n",
    "\n",
    "Deep learning networks tend to be massive with dozens or hundreds of layers, that's where the term \"deep\" comes from. You can build one of these deep networks using only weight matrices as we did in the previous notebook, but in general it's very cumbersome and difficult to implement. PyTorch has a nice module `nn` that provides a nice way to efficiently build large neural networks."
   ]
  },
  {
   "cell_type": "code",
   "execution_count": 1,
   "metadata": {},
   "outputs": [],
   "source": [
    "# Import necessary packages\n",
    "\n",
    "%matplotlib inline\n",
    "%config InlineBackend.figure_format = 'retina'\n",
    "\n",
    "import numpy as np\n",
    "import torch\n",
    "\n",
    "import helper\n",
    "\n",
    "import matplotlib.pyplot as plt"
   ]
  },
  {
   "cell_type": "markdown",
   "metadata": {},
   "source": [
    "\n",
    "Now we're going to build a larger network that can solve a (formerly) difficult problem, identifying text in an image. Here we'll use the MNIST dataset which consists of greyscale handwritten digits. Each image is 28x28 pixels, you can see a sample below\n",
    "\n",
    "<img src='assets/mnist.png'>\n",
    "\n",
    "Our goal is to build a neural network that can take one of these images and predict the digit in the image.\n",
    "\n",
    "First up, we need to get our dataset. This is provided through the `torchvision` package. The code below will download the MNIST dataset, then create training and test datasets for us. Don't worry too much about the details here, you'll learn more about this later."
   ]
  },
  {
   "cell_type": "code",
   "execution_count": 2,
   "metadata": {},
   "outputs": [
    {
     "name": "stderr",
     "output_type": "stream",
     "text": [
      "\r",
      "0it [00:00, ?it/s]"
     ]
    },
    {
     "name": "stdout",
     "output_type": "stream",
     "text": [
      "Downloading http://yann.lecun.com/exdb/mnist/train-images-idx3-ubyte.gz to C:\\Users\\Mohamed.Bakir/.pytorch/MNIST_data/MNIST\\raw\\train-images-idx3-ubyte.gz\n"
     ]
    },
    {
     "name": "stderr",
     "output_type": "stream",
     "text": [
      "9920512it [00:09, 1081918.22it/s]                                                                                                                                                                                \n"
     ]
    },
    {
     "name": "stdout",
     "output_type": "stream",
     "text": [
      "Extracting C:\\Users\\Mohamed.Bakir/.pytorch/MNIST_data/MNIST\\raw\\train-images-idx3-ubyte.gz to C:\\Users\\Mohamed.Bakir/.pytorch/MNIST_data/MNIST\\raw\n"
     ]
    },
    {
     "name": "stderr",
     "output_type": "stream",
     "text": [
      "\r",
      "0it [00:00, ?it/s]"
     ]
    },
    {
     "name": "stdout",
     "output_type": "stream",
     "text": [
      "Downloading http://yann.lecun.com/exdb/mnist/train-labels-idx1-ubyte.gz to C:\\Users\\Mohamed.Bakir/.pytorch/MNIST_data/MNIST\\raw\\train-labels-idx1-ubyte.gz\n"
     ]
    },
    {
     "name": "stderr",
     "output_type": "stream",
     "text": [
      "32768it [00:00, 57961.75it/s]                                                                                                                                                                                    \n",
      "0it [00:00, ?it/s]"
     ]
    },
    {
     "name": "stdout",
     "output_type": "stream",
     "text": [
      "Extracting C:\\Users\\Mohamed.Bakir/.pytorch/MNIST_data/MNIST\\raw\\train-labels-idx1-ubyte.gz to C:\\Users\\Mohamed.Bakir/.pytorch/MNIST_data/MNIST\\raw\n",
      "Downloading http://yann.lecun.com/exdb/mnist/t10k-images-idx3-ubyte.gz to C:\\Users\\Mohamed.Bakir/.pytorch/MNIST_data/MNIST\\raw\\t10k-images-idx3-ubyte.gz\n"
     ]
    },
    {
     "name": "stderr",
     "output_type": "stream",
     "text": [
      "1654784it [00:02, 781291.94it/s]                                                                                                                                                                                 \n",
      "0it [00:00, ?it/s]"
     ]
    },
    {
     "name": "stdout",
     "output_type": "stream",
     "text": [
      "Extracting C:\\Users\\Mohamed.Bakir/.pytorch/MNIST_data/MNIST\\raw\\t10k-images-idx3-ubyte.gz to C:\\Users\\Mohamed.Bakir/.pytorch/MNIST_data/MNIST\\raw\n",
      "Downloading http://yann.lecun.com/exdb/mnist/t10k-labels-idx1-ubyte.gz to C:\\Users\\Mohamed.Bakir/.pytorch/MNIST_data/MNIST\\raw\\t10k-labels-idx1-ubyte.gz\n"
     ]
    },
    {
     "name": "stderr",
     "output_type": "stream",
     "text": [
      "8192it [00:00, 28022.69it/s]                                                                                                                                                                                     \n"
     ]
    },
    {
     "name": "stdout",
     "output_type": "stream",
     "text": [
      "Extracting C:\\Users\\Mohamed.Bakir/.pytorch/MNIST_data/MNIST\\raw\\t10k-labels-idx1-ubyte.gz to C:\\Users\\Mohamed.Bakir/.pytorch/MNIST_data/MNIST\\raw\n",
      "Processing...\n",
      "Done!\n"
     ]
    }
   ],
   "source": [
    "### Run this cell\n",
    "\n",
    "from torchvision import datasets, transforms\n",
    "\n",
    "# Define a transform to normalize the data\n",
    "transform = transforms.Compose([transforms.ToTensor(),\n",
    "                              transforms.Normalize((0.5,), (0.5,)),\n",
    "                              ])\n",
    "\n",
    "# Download and load the training data\n",
    "trainset = datasets.MNIST('~/.pytorch/MNIST_data/', download=True, train=True, transform=transform)\n",
    "trainloader = torch.utils.data.DataLoader(trainset, batch_size=64, shuffle=True)"
   ]
  },
  {
   "cell_type": "markdown",
   "metadata": {},
   "source": [
    "We have the training data loaded into `trainloader` and we make that an iterator with `iter(trainloader)`. Later, we'll use this to loop through the dataset for training, like\n",
    "\n",
    "```python\n",
    "for image, label in trainloader:\n",
    "    ## do things with images and labels\n",
    "```\n",
    "\n",
    "You'll notice I created the `trainloader` with a batch size of 64, and `shuffle=True`. The batch size is the number of images we get in one iteration from the data loader and pass through our network, often called a *batch*. And `shuffle=True` tells it to shuffle the dataset every time we start going through the data loader again. But here I'm just grabbing the first batch so we can check out the data. We can see below that `images` is just a tensor with size `(64, 1, 28, 28)`. So, 64 images per batch, 1 color channel, and 28x28 images."
   ]
  },
  {
   "cell_type": "code",
   "execution_count": 3,
   "metadata": {},
   "outputs": [
    {
     "name": "stdout",
     "output_type": "stream",
     "text": [
      "<class 'torch.Tensor'>\n",
      "torch.Size([64, 1, 28, 28])\n",
      "torch.Size([64])\n"
     ]
    }
   ],
   "source": [
    "dataiter = iter(trainloader)\n",
    "images, labels = dataiter.next()\n",
    "print(type(images))\n",
    "print(images.shape)\n",
    "print(labels.shape)"
   ]
  },
  {
   "cell_type": "markdown",
   "metadata": {},
   "source": [
    "This is what one of the images looks like. "
   ]
  },
  {
   "cell_type": "code",
   "execution_count": 4,
   "metadata": {},
   "outputs": [
    {
     "data": {
      "image/png": "[encoded data removed]",
      "text/plain": [
       "<Figure size 432x288 with 1 Axes>"
      ]
     },
     "metadata": {
      "image/png": {
       "height": 248,
       "width": 251
      },
      "needs_background": "light"
     },
     "output_type": "display_data"
    }
   ],
   "source": [
    "plt.imshow(images[1].numpy().squeeze(), cmap='Greys_r');"
   ]
  },
  {
   "cell_type": "markdown",
   "metadata": {},
   "source": [
    "First, let's try to build a simple network for this dataset using weight matrices and matrix multiplications. Then, we'll see how to do it using PyTorch's `nn` module which provides a much more convenient and powerful method for defining network architectures.\n",
    "\n",
    "The networks you've seen so far are called *fully-connected* or *dense* networks. Each unit in one layer is connected to each unit in the next layer. In fully-connected networks, the input to each layer must be a one-dimensional vector (which can be stacked into a 2D tensor as a batch of multiple examples). However, our images are 28x28 2D tensors, so we need to convert them into 1D vectors. Thinking about sizes, we need to convert the batch of images with shape `(64, 1, 28, 28)` to a have a shape of `(64, 784)`, 784 is 28 times 28. This is typically called *flattening*, we flattened the 2D images into 1D vectors.\n",
    "\n",
    "Previously you built a network with one output unit. Here we need 10 output units, one for each digit. We want our network to predict the digit shown in an image, so what we'll do is calculate probabilities that the image is of any one digit or class. This ends up being a discrete probability distribution over the classes (digits) that tells us the most likely class for the image. That means we need 10 output units for the 10 classes (digits). We'll see how to convert the network output into a probability distribution next.\n",
    "\n",
    "> **Exercise:** Flatten the batch of images `images`. Then build a multi-layer network with 784 input units, 256 hidden units, and 10 output units using random tensors for the weights and biases. For now, use a sigmoid activation for the hidden layer. Leave the output layer without an activation, we'll add one that gives us a probability distribution next."
   ]
  },
  {
   "cell_type": "code",
   "execution_count": 96,
   "metadata": {},
   "outputs": [
    {
     "name": "stdout",
     "output_type": "stream",
     "text": [
      "tensor([[-1.4077e+01, -3.0904e-01, -2.2424e+01, -1.8675e+01,  1.9595e+00,\n",
      "         -2.0927e+01, -5.1918e-01,  1.1665e+01,  1.5494e+01, -1.2384e+01],\n",
      "        [-5.6082e+00,  1.8004e+00, -5.4224e+00, -5.2497e+00,  8.4284e+00,\n",
      "         -1.7558e+01, -2.1422e+00,  8.3251e+00,  1.8512e+01, -1.2943e+00],\n",
      "        [-1.5330e+01, -8.6081e+00, -1.9517e+01, -1.1263e+01,  1.2566e+01,\n",
      "         -4.5086e+00,  4.9612e+00,  2.7443e+00,  2.1688e+01,  4.4639e+00],\n",
      "        [-1.1274e+01,  1.9991e+00, -1.2049e+01, -7.5743e+00, -5.1127e-01,\n",
      "         -1.7189e+01,  3.8482e+00,  4.5277e+00,  2.2954e+01, -1.1352e+01],\n",
      "        [ 3.3830e-01, -1.3205e+01, -9.5510e+00, -3.7015e+00,  1.1856e+00,\n",
      "         -1.8528e+01, -4.4003e+00,  5.1561e+00,  3.0623e+01, -1.5354e+00],\n",
      "        [-1.4230e+01,  5.0236e+00, -1.4669e+01, -9.3370e+00,  9.6454e-01,\n",
      "         -1.5346e+01,  1.7825e+00,  9.6512e+00,  1.9476e+01, -6.6630e+00],\n",
      "        [-1.1233e+01, -2.6970e-01, -1.1456e+01, -1.0562e+01,  6.6380e+00,\n",
      "         -1.4770e+01,  2.4431e+00,  9.2989e+00,  2.2543e+01, -1.7056e+01],\n",
      "        [-1.1954e+01,  4.5867e+00,  2.7322e+00, -1.2111e+00,  1.3069e+01,\n",
      "         -1.4713e+01,  4.0398e+00,  9.3799e+00,  2.5935e+01,  2.9075e+00],\n",
      "        [-9.2607e+00,  3.0402e-01, -1.8809e+01, -3.3043e+00,  1.6465e+00,\n",
      "         -4.3891e+00, -3.1437e+00,  3.7630e+00,  2.3528e+01, -1.2196e+01],\n",
      "        [-2.0655e+01,  6.6889e+00, -8.7083e+00, -5.1943e+00, -6.7900e+00,\n",
      "         -2.1090e+01, -1.4440e+00,  6.9243e+00,  2.4519e+01, -8.6673e+00],\n",
      "        [-4.8918e+00, -9.9892e+00, -9.6912e+00, -6.4137e+00, -1.3197e-01,\n",
      "         -1.7413e+01, -4.2489e+00,  6.3431e+00,  2.3889e+01, -1.8885e+01],\n",
      "        [-9.9952e+00, -3.1891e+00, -4.7163e+00,  1.5958e+00,  8.3161e+00,\n",
      "         -2.0429e+01, -1.1356e+01,  8.8616e+00,  2.2907e+01, -4.0084e+00],\n",
      "        [-1.5154e+01, -8.4333e+00, -1.8633e+01, -4.4933e+00,  2.9348e+00,\n",
      "         -9.2847e+00, -5.3665e+00,  1.3743e+00,  2.3375e+01, -1.2304e+01],\n",
      "        [-5.8848e+00, -4.0011e-01, -1.8745e+01, -1.9643e+00, -2.2571e-01,\n",
      "         -1.4375e+01, -9.7920e+00,  9.3465e+00,  6.9976e+00, -5.3187e+00],\n",
      "        [-4.8889e+00, -6.1430e+00, -1.4561e+01, -1.9195e+01,  1.0985e+01,\n",
      "         -1.0335e+01, -1.0879e+01,  5.5314e+00,  3.1733e+01, -4.5496e+00],\n",
      "        [-1.1345e+01,  1.1712e+01, -1.1163e+01, -3.7934e+00,  1.2684e+01,\n",
      "         -8.2304e+00, -7.3185e+00,  1.0320e+01,  1.5150e+01,  1.0391e+00],\n",
      "        [-6.1775e+00, -3.6821e+00, -9.1666e+00,  3.1892e+00,  2.7211e+00,\n",
      "         -6.4068e+00,  4.4209e+00,  4.6308e+00,  3.1709e+01, -8.8158e+00],\n",
      "        [-1.3923e+01, -3.0326e+00, -1.3611e+01, -5.6316e-01,  1.1495e+01,\n",
      "         -7.7169e+00, -3.5429e+00,  1.8803e+01,  1.7975e+01, -3.4279e+00],\n",
      "        [-1.2511e+01, -3.8782e+00, -1.0738e+01, -7.3514e+00,  4.7846e+00,\n",
      "         -1.8247e+01, -2.2377e+00,  7.7875e+00,  2.1821e+01, -1.1670e+01],\n",
      "        [-1.6827e+01, -2.8243e-01, -1.7086e+01, -8.2951e+00,  2.6798e+00,\n",
      "         -1.1409e+01, -2.4905e+00,  4.3041e+00,  2.1949e+01, -1.3568e+01],\n",
      "        [-9.8497e+00,  7.7402e-01, -1.4198e+01, -2.4377e+00,  5.3889e+00,\n",
      "         -1.7467e+01,  3.4493e-01,  7.1582e+00,  2.4271e+01, -1.0112e+01],\n",
      "        [-1.5736e+01,  8.2938e-01, -1.2386e+01, -3.0162e+00, -3.4379e+00,\n",
      "         -1.8135e+01, -7.0411e+00,  1.6093e+01,  1.5625e+01,  4.5787e-01],\n",
      "        [-5.8984e+00, -8.1212e+00, -1.9332e+01, -1.1025e+01,  4.7171e-01,\n",
      "         -1.6929e+01,  5.1555e+00,  8.8888e+00,  1.8564e+01, -8.8931e+00],\n",
      "        [-1.2977e+01, -5.4580e+00, -1.8215e+01, -4.5326e-01,  4.3404e+00,\n",
      "         -2.3715e+01, -5.9461e+00,  1.0910e+01,  2.0326e+01,  5.1386e-01],\n",
      "        [-1.0189e+01, -8.0551e+00, -2.5693e+00,  5.1615e+00, -8.2525e-01,\n",
      "         -1.2628e+01,  2.9840e+00,  6.9317e+00,  1.9706e+01, -7.8085e+00],\n",
      "        [-1.8632e+01,  2.2697e+00, -1.1289e+01,  1.0121e+00, -8.0643e+00,\n",
      "         -2.7482e+01,  4.8465e+00,  7.0598e+00,  2.5228e+01, -1.4722e+01],\n",
      "        [-8.0552e+00, -8.1383e+00, -1.4887e+01, -1.4913e+01, -8.4520e-01,\n",
      "         -1.0577e+01,  2.2266e+00,  1.8106e+01,  3.2160e+01, -1.0167e+01],\n",
      "        [-1.2617e+01,  1.3800e-01, -1.3241e+01, -7.5832e+00, -7.6968e+00,\n",
      "         -1.9283e+01,  4.7237e+00,  8.2859e+00,  2.3849e+01, -1.2039e+01],\n",
      "        [-1.0628e+01, -1.4754e+00, -1.0268e+01, -7.5037e+00,  1.1065e+01,\n",
      "         -1.3469e+01, -5.3731e+00,  1.2356e+01,  2.0663e+01, -1.3845e+00],\n",
      "        [-1.2595e+01, -1.8009e+00, -9.8738e+00, -1.0923e+00, -1.4157e+00,\n",
      "         -1.6968e+01, -6.0414e+00,  6.9780e+00,  1.9412e+01, -1.0602e+01],\n",
      "        [-6.7646e+00, -2.2359e+00, -1.3816e+01, -3.7473e-01,  1.3454e+00,\n",
      "         -1.0698e+01,  1.1195e+01,  9.5952e+00,  2.4966e+01, -9.9740e+00],\n",
      "        [-1.4575e+01, -2.7556e+00, -7.2668e+00, -1.1184e+01,  3.9512e+00,\n",
      "         -1.3831e+01,  2.4281e-01,  2.5032e+00,  1.5975e+01, -1.3310e+01],\n",
      "        [-2.0985e+01, -6.5693e+00, -1.3252e+01, -4.3839e+00, -1.3687e+00,\n",
      "         -1.3983e+01, -3.3960e+00,  9.9422e+00,  2.9850e+01,  5.5842e+00],\n",
      "        [-1.3192e+01, -5.9794e+00, -1.1184e+01, -6.1481e+00,  8.1378e+00,\n",
      "         -1.8206e+01,  1.4043e+01,  1.0395e+01,  2.5835e+01, -4.3771e+00],\n",
      "        [-1.3447e+01, -8.4440e-01, -2.3370e+01, -1.3799e+01, -5.9114e+00,\n",
      "         -4.2517e+00,  4.3508e+00,  1.4507e+01,  2.4999e+01, -4.7048e+00],\n",
      "        [-1.4770e+01, -8.4894e-01, -1.7679e+01,  6.0861e-01,  8.1266e+00,\n",
      "         -1.1538e+01,  4.9977e+00,  6.0058e+00,  2.9892e+01,  4.6071e+00],\n",
      "        [-1.4460e+01,  1.8157e+00, -1.5092e+01, -1.2228e+01, -2.4465e+00,\n",
      "         -1.7487e+01,  4.7714e-01,  5.3508e+00,  2.3689e+01, -9.6697e+00],\n",
      "        [-1.5410e+01,  4.7074e-01, -1.6658e+01, -6.0593e+00,  5.5845e+00,\n",
      "         -8.4464e+00,  2.4850e+00,  2.0732e+01,  3.0176e+01,  1.4613e+00],\n",
      "        [-1.1295e+01, -4.2883e+00, -1.7516e+01, -1.5151e+01,  8.6107e+00,\n",
      "         -1.6463e+01, -9.6797e-01, -6.4991e-01,  1.3973e+01, -9.4026e+00],\n",
      "        [-9.0530e+00, -6.7539e+00, -2.2906e+01, -9.1581e+00,  3.2440e+00,\n",
      "         -1.8111e+01, -5.6183e+00,  9.2513e+00,  2.2165e+01, -1.2417e+01],\n",
      "        [ 1.8791e+00, -4.7805e+00,  2.3735e-01, -1.1264e+01,  1.6494e+00,\n",
      "         -1.3057e+01, -5.8979e+00,  6.4113e+00,  1.6623e+01, -7.7461e+00],\n",
      "        [-9.7947e+00,  6.7858e-01, -1.2374e+01, -1.3882e+01, -2.2382e+00,\n",
      "         -1.7357e+01, -6.3389e+00,  1.4199e+01,  1.6418e+01, -9.0760e-01],\n",
      "        [-1.1951e+01, -7.9864e+00, -4.4175e+00,  2.5531e+00, -6.1904e+00,\n",
      "         -1.8560e+01, -4.8791e+00,  1.8038e+00,  2.3408e+01, -8.3848e+00],\n",
      "        [-1.0990e+01,  6.8055e-02, -1.3210e+01, -2.9062e+00,  3.9601e-01,\n",
      "         -1.7213e+01, -8.1500e+00,  1.1466e+01,  1.7493e+01, -1.0369e+00],\n",
      "        [-9.5284e-01, -3.7738e+00, -1.4319e+01, -5.8711e-01,  6.0149e+00,\n",
      "         -1.0161e+01,  1.1247e+00,  7.2825e+00,  2.2656e+01, -6.8552e+00],\n",
      "        [-5.1294e+00, -6.2652e+00, -8.1599e+00, -2.9106e+00,  6.9368e+00,\n",
      "         -1.0718e+01, -2.6068e+00,  1.0953e+01,  2.9741e+01, -1.2661e+01],\n",
      "        [-1.0108e+01,  1.6098e+00, -1.0004e+01, -7.7169e+00,  2.1129e+00,\n",
      "         -1.4523e+01,  1.7387e+00,  1.2115e+01,  1.7609e+01, -6.3795e+00],\n",
      "        [-1.4914e+01, -2.0469e+00, -9.8453e+00, -4.8389e+00,  5.9469e+00,\n",
      "         -9.0469e+00,  1.4052e+01,  1.6279e-01,  1.7452e+01, -9.6470e+00],\n",
      "        [-1.2921e+01, -5.5677e+00, -6.8746e+00,  1.7649e+00,  1.6832e+00,\n",
      "         -2.0164e+01,  9.1749e-01,  4.0618e+00,  2.2785e+01, -8.1935e+00],\n",
      "        [ 3.0645e+00,  9.3223e-01, -1.2434e+01, -5.3915e+00,  1.9264e+00,\n",
      "         -1.8196e+01, -1.7243e+00,  1.3128e-01,  1.8231e+01, -7.1512e+00],\n",
      "        [-7.4608e+00, -9.7256e-01, -1.2149e+01, -7.9344e+00,  1.2403e+01,\n",
      "         -6.0189e+00,  6.6400e-02,  7.2991e+00,  2.8356e+01,  2.7953e+00],\n",
      "        [-4.2685e+00, -2.5664e+00, -9.8970e+00, -1.0653e+01,  1.1542e+01,\n",
      "         -1.2587e+01,  1.0526e+00,  1.0555e+00,  3.0061e+01,  2.5008e+00],\n",
      "        [ 1.4513e+00, -1.0934e+00, -1.5817e+01, -2.4140e+00, -7.5085e+00,\n",
      "         -1.5137e+01, -1.5167e+00,  4.6903e+00,  2.1320e+01, -1.2895e+01],\n",
      "        [-1.1108e+01, -5.3245e+00, -1.4443e+01, -8.9713e+00,  2.9835e-02,\n",
      "         -6.8869e+00, -3.0874e+00, -5.4941e-01,  2.5992e+01, -7.3129e+00],\n",
      "        [-3.7958e+00,  4.0503e-01, -2.0978e+01, -1.7184e+01,  4.5362e+00,\n",
      "         -2.2835e+01, -4.1268e+00,  1.4880e+01,  2.4563e+01, -7.7167e+00],\n",
      "        [-1.1219e+01, -8.4140e+00, -1.9062e+01, -1.0384e+01,  1.9547e+00,\n",
      "         -1.0585e+01, -1.3479e+00,  8.2636e+00,  2.0397e+01, -5.8093e+00],\n",
      "        [-1.2567e+01, -6.0890e+00, -5.0194e+00, -3.4404e+00,  8.8147e+00,\n",
      "         -2.2299e+01, -1.9290e+01,  1.3146e+01,  1.7848e+01, -7.3880e+00],\n",
      "        [-1.1538e+01, -5.7437e+00, -1.7653e+01, -1.8533e+01,  1.4170e+00,\n",
      "         -1.4143e+01,  1.1290e+00,  1.2467e+01,  2.6131e+01, -1.5613e+01],\n",
      "        [-1.3903e+01, -1.5501e+00, -1.0848e+01, -7.8083e+00,  4.2960e+00,\n",
      "         -1.4037e+01, -3.5069e+00,  8.2294e+00,  2.7313e+01, -2.4776e+00],\n",
      "        [-1.7558e+01,  5.1491e+00, -1.2605e+01, -3.4651e+00, -1.5971e+00,\n",
      "         -1.2514e+01,  2.3404e+00,  4.6654e+00,  2.1840e+01, -3.8224e+00],\n",
      "        [-1.9216e+01,  7.0507e+00, -7.8057e+00, -1.8659e+00,  9.5961e+00,\n",
      "         -1.6132e+01,  4.7590e+00,  9.9871e+00,  2.6458e+01, -1.1595e+01],\n",
      "        [ 5.6668e+00, -8.1922e+00, -1.0806e+01, -3.5373e+00,  5.5065e+00,\n",
      "         -2.0047e+01, -6.8478e-01,  8.0694e-01,  2.1399e+01, -1.3229e+00],\n",
      "        [-1.5370e+01,  2.1873e-01, -1.0661e+01, -6.5879e+00,  4.8599e+00,\n",
      "         -1.0932e+01,  5.0385e+00,  4.2145e+00,  2.0015e+01, -1.4508e+01],\n",
      "        [-8.2629e+00, -1.1939e+01, -1.6083e+01, -8.8836e+00,  6.1769e+00,\n",
      "         -1.4393e+01, -4.5635e+00,  1.0522e+01,  1.9191e+01, -1.1316e+01]])\n"
     ]
    }
   ],
   "source": [
    "## Your solution\n",
    "def sigmoid(x):\n",
    "    return 1/(1+torch.exp(-x))\n",
    "n_input=784\n",
    "n_out=10\n",
    "n_hidden=256\n",
    "features=images.view(64,784)\n",
    "weights1 = torch.randn(n_input,n_hidden)\n",
    "weights2 = torch.randn(n_hidden,n_out)\n",
    "B1=torch.randn(1,n_hidden)\n",
    "B2=torch.randn(1,n_out)\n",
    "\n",
    "y1=sigmoid((torch.mm(features,weights1)+B1))\n",
    "y2=((torch.mm(y1,weights2)+B2))\n",
    "    \n",
    "#print(torch.mm(y1[0,:].view(1,256),weights2)+B1)\n",
    "   \n",
    "out=y2\n",
    "print(out)\n",
    "\n",
    "#output of your network, should have shape (64,10)"
   ]
  },
  {
   "cell_type": "markdown",
   "metadata": {},
   "source": [
    "Now we have 10 outputs for our network. We want to pass in an image to our network and get out a probability distribution over the classes that tells us the likely class(es) the image belongs to. Something that looks like this:\n",
    "<img src='assets/image_distribution.png' width=500px>\n",
    "\n",
    "Here we see that the probability for each class is roughly the same. This is representing an untrained network, it hasn't seen any data yet so it just returns a uniform distribution with equal probabilities for each class.\n",
    "\n",
    "To calculate this probability distribution, we often use the [**softmax** function](https://en.wikipedia.org/wiki/Softmax_function). Mathematically this looks like\n",
    "\n",
    "$$\n",
    "\\Large \\sigma(x_i) = \\cfrac{e^{x_i}}{\\sum_k^K{e^{x_k}}}\n",
    "$$\n",
    "\n",
    "What this does is squish each input $x_i$ between 0 and 1 and normalizes the values to give you a proper probability distribution where the probabilites sum up to one.\n",
    "\n",
    "> **Exercise:** Implement a function `softmax` that performs the softmax calculation and returns probability distributions for each example in the batch. Note that you'll need to pay attention to the shapes when doing this. If you have a tensor `a` with shape `(64, 10)` and a tensor `b` with shape `(64,)`, doing `a/b` will give you an error because PyTorch will try to do the division across the columns (called broadcasting) but you'll get a size mismatch. The way to think about this is for each of the 64 examples, you only want to divide by one value, the sum in the denominator. So you need `b` to have a shape of `(64, 1)`. This way PyTorch will divide the 10 values in each row of `a` by the one value in each row of `b`. Pay attention to how you take the sum as well. You'll need to define the `dim` keyword in `torch.sum`. Setting `dim=0` takes the sum across the rows while `dim=1` takes the sum across the columns."
   ]
  },
  {
   "cell_type": "code",
   "execution_count": 95,
   "metadata": {},
   "outputs": [
    {
     "name": "stdout",
     "output_type": "stream",
     "text": [
      "torch.Size([64, 10])\n",
      "tensor([1.0000, 1.0000, 1.0000, 1.0000, 1.0000, 1.0000, 1.0000, 1.0000, 1.0000,\n",
      "        1.0000, 1.0000, 1.0000, 1.0000, 1.0000, 1.0000, 1.0000, 1.0000, 1.0000,\n",
      "        1.0000, 1.0000, 1.0000, 1.0000, 1.0000, 1.0000, 1.0000, 1.0000, 1.0000,\n",
      "        1.0000, 1.0000, 1.0000, 1.0000, 1.0000, 1.0000, 1.0000, 1.0000, 1.0000,\n",
      "        1.0000, 1.0000, 1.0000, 1.0000, 1.0000, 1.0000, 1.0000, 1.0000, 1.0000,\n",
      "        1.0000, 1.0000, 1.0000, 1.0000, 1.0000, 1.0000, 1.0000, 1.0000, 1.0000,\n",
      "        1.0000, 1.0000, 1.0000, 1.0000, 1.0000, 1.0000, 1.0000, 1.0000, 1.0000,\n",
      "        1.0000])\n"
     ]
    }
   ],
   "source": [
    "def softmax(x):\n",
    "    ## TODO: Implement the softmax function here\n",
    "    x=torch.exp(x)\n",
    "    divx=x.sum(dim=1)\n",
    "    y=x/divx.view(64,1)\n",
    "    #for i in range(x.shape[0]):\n",
    "    #    x[i]=x[i]/torch.sum(x[i])\n",
    "    return y\n",
    "        \n",
    "        \n",
    "\n",
    "# Here, out should be the output of the network in the previous excercise with shape (64,10)\n",
    "probabilities = softmax(out)\n",
    "\n",
    "# Does it have the right shape? Should be (64, 10)\n",
    "print(probabilities.shape)\n",
    "# Does it sum to 1?\n",
    "print(probabilities.sum(dim=1))"
   ]
  },
  {
   "cell_type": "markdown",
   "metadata": {},
   "source": [
    "## Building networks with PyTorch\n",
    "\n",
    "PyTorch provides a module `nn` that makes building networks much simpler. Here I'll show you how to build the same one as above with 784 inputs, 256 hidden units, 10 output units and a softmax output."
   ]
  },
  {
   "cell_type": "code",
   "execution_count": 103,
   "metadata": {},
   "outputs": [],
   "source": [
    "from torch import nn"
   ]
  },
  {
   "cell_type": "code",
   "execution_count": 104,
   "metadata": {},
   "outputs": [],
   "source": [
    "class Network(nn.Module):\n",
    "    def __init__(self):\n",
    "        super().__init__()\n",
    "        \n",
    "        # Inputs to hidden layer linear transformation\n",
    "        self.hidden = nn.Linear(784, 256)\n",
    "        # Output layer, 10 units - one for each digit\n",
    "        self.output = nn.Linear(256, 10)\n",
    "        \n",
    "        # Define sigmoid activation and softmax output \n",
    "        self.sigmoid = nn.Sigmoid()\n",
    "        self.softmax = nn.Softmax(dim=1)\n",
    "        \n",
    "    def forward(self, x):\n",
    "        # Pass the input tensor through each of our operations\n",
    "        x = self.hidden(x)\n",
    "        x = self.sigmoid(x)\n",
    "        x = self.output(x)\n",
    "        x = self.softmax(x)\n",
    "        \n",
    "        return x"
   ]
  },
  {
   "cell_type": "markdown",
   "metadata": {},
   "source": [
    "Let's go through this bit by bit.\n",
    "\n",
    "```python\n",
    "class Network(nn.Module):\n",
    "```\n",
    "\n",
    "Here we're inheriting from `nn.Module`. Combined with `super().__init__()` this creates a class that tracks the architecture and provides a lot of useful methods and attributes. It is mandatory to inherit from `nn.Module` when you're creating a class for your network. The name of the class itself can be anything.\n",
    "\n",
    "```python\n",
    "self.hidden = nn.Linear(784, 256)\n",
    "```\n",
    "\n",
    "This line creates a module for a linear transformation, $x\\mathbf{W} + b$, with 784 inputs and 256 outputs and assigns it to `self.hidden`. The module automatically creates the weight and bias tensors which we'll use in the `forward` method. You can access the weight and bias tensors once the network (`net`) is created with `net.hidden.weight` and `net.hidden.bias`.\n",
    "\n",
    "```python\n",
    "self.output = nn.Linear(256, 10)\n",
    "```\n",
    "\n",
    "Similarly, this creates another linear transformation with 256 inputs and 10 outputs.\n",
    "\n",
    "```python\n",
    "self.sigmoid = nn.Sigmoid()\n",
    "self.softmax = nn.Softmax(dim=1)\n",
    "```\n",
    "\n",
    "Here I defined operations for the sigmoid activation and softmax output. Setting `dim=1` in `nn.Softmax(dim=1)` calculates softmax across the columns.\n",
    "\n",
    "```python\n",
    "def forward(self, x):\n",
    "```\n",
    "\n",
    "PyTorch networks created with `nn.Module` must have a `forward` method defined. It takes in a tensor `x` and passes it through the operations you defined in the `__init__` method.\n",
    "\n",
    "```python\n",
    "x = self.hidden(x)\n",
    "x = self.sigmoid(x)\n",
    "x = self.output(x)\n",
    "x = self.softmax(x)\n",
    "```\n",
    "\n",
    "Here the input tensor `x` is passed through each operation and reassigned to `x`. We can see that the input tensor goes through the hidden layer, then a sigmoid function, then the output layer, and finally the softmax function. It doesn't matter what you name the variables here, as long as the inputs and outputs of the operations match the network architecture you want to build. The order in which you define things in the `__init__` method doesn't matter, but you'll need to sequence the operations correctly in the `forward` method.\n",
    "\n",
    "Now we can create a `Network` object."
   ]
  },
  {
   "cell_type": "code",
   "execution_count": 105,
   "metadata": {},
   "outputs": [
    {
     "data": {
      "text/plain": [
       "Network(\n",
       "  (hidden): Linear(in_features=784, out_features=256, bias=True)\n",
       "  (output): Linear(in_features=256, out_features=10, bias=True)\n",
       "  (sigmoid): Sigmoid()\n",
       "  (softmax): Softmax(dim=1)\n",
       ")"
      ]
     },
     "execution_count": 105,
     "metadata": {},
     "output_type": "execute_result"
    }
   ],
   "source": [
    "# Create the network and look at it's text representation\n",
    "model = Network()\n",
    "model"
   ]
  },
  {
   "cell_type": "markdown",
   "metadata": {},
   "source": [
    "You can define the network somewhat more concisely and clearly using the `torch.nn.functional` module. This is the most common way you'll see networks defined as many operations are simple element-wise functions. We normally import this module as `F`, `import torch.nn.functional as F`."
   ]
  },
  {
   "cell_type": "code",
   "execution_count": 117,
   "metadata": {},
   "outputs": [],
   "source": [
    "import torch.nn.functional as F\n",
    "\n",
    "class Network(nn.Module):\n",
    "    def __init__(self):\n",
    "        super().__init__()\n",
    "        # Inputs to hidden layer linear transformation\n",
    "        self.hidden = nn.Linear(784, 256)\n",
    "        # Output layer, 10 units - one for each digit\n",
    "        self.output = nn.Linear(256, 10)\n",
    "        \n",
    "    def forward(self, x):\n",
    "        # Hidden layer with sigmoid activation\n",
    "        x = F.sigmoid(self.hidden(x))\n",
    "        # Output layer with softmax activation\n",
    "        x = F.softmax(self.output(x), dim=1)\n",
    "        \n",
    "        return x"
   ]
  },
  {
   "cell_type": "markdown",
   "metadata": {},
   "source": [
    "### Activation functions\n",
    "\n",
    "So far we've only been looking at the sigmoid activation function, but in general any function can be used as an activation function. The only requirement is that for a network to approximate a non-linear function, the activation functions must be non-linear. Here are a few more examples of common activation functions: Tanh (hyperbolic tangent), and ReLU (rectified linear unit).\n",
    "\n",
    "<img src=\"assets/activation.png\" width=700px>\n",
    "\n",
    "In practice, the ReLU function is used almost exclusively as the activation function for hidden layers."
   ]
  },
  {
   "cell_type": "markdown",
   "metadata": {},
   "source": [
    "### Your Turn to Build a Network\n",
    "\n",
    "<img src=\"assets/mlp_mnist.png\" width=600px>\n",
    "\n",
    "> **Exercise:** Create a network with 784 input units, a hidden layer with 128 units and a ReLU activation, then a hidden layer with 64 units and a ReLU activation, and finally an output layer with a softmax activation as shown above. You can use a ReLU activation with the `nn.ReLU` module or `F.relu` function.\n",
    "\n",
    "It's good practice to name your layers by their type of network, for instance 'fc' to represent a fully-connected layer. As you code your solution, use `fc1`, `fc2`, and `fc3` as your layer names."
   ]
  },
  {
   "cell_type": "code",
   "execution_count": 115,
   "metadata": {
    "scrolled": true
   },
   "outputs": [],
   "source": [
    "## Your solution here\n",
    "import torch.nn.functional as F\n",
    "\n",
    "class mynetwork(nn.Module):\n",
    "    def __init__(self):\n",
    "        super().__init__()\n",
    "        self.fc1=nn.Linear(784,128)\n",
    "        self.fc2=nn.Linear(128,64)\n",
    "        self.fc3=nn.Linear(64,10)\n",
    "        \n",
    "    def forward(self,x):\n",
    "        x=F.relu(self.fc1(x))\n",
    "        x=F.relu(self.fc2(x))\n",
    "        x=F.relu(self.fc3(x))\n",
    "        return x"
   ]
  },
  {
   "cell_type": "markdown",
   "metadata": {},
   "source": [
    "### Initializing weights and biases\n",
    "\n",
    "The weights and such are automatically initialized for you, but it's possible to customize how they are initialized. The weights and biases are tensors attached to the layer you defined, you can get them with `model.fc1.weight` for instance."
   ]
  },
  {
   "cell_type": "code",
   "execution_count": 119,
   "metadata": {},
   "outputs": [
    {
     "name": "stdout",
     "output_type": "stream",
     "text": [
      "Parameter containing:\n",
      "tensor([[ 2.1446e-02, -1.8972e-02,  3.0208e-02,  ...,  1.4079e-02,\n",
      "          1.9880e-02, -1.9560e-02],\n",
      "        [ 1.0263e-03, -2.2744e-03,  6.1173e-05,  ..., -3.4238e-02,\n",
      "         -1.2827e-02,  2.2356e-02],\n",
      "        [ 6.6932e-03, -1.9824e-02,  2.0299e-02,  ...,  1.6106e-02,\n",
      "          2.1022e-02,  9.9752e-03],\n",
      "        ...,\n",
      "        [-4.3355e-03, -6.9014e-03,  2.2475e-02,  ..., -7.6818e-03,\n",
      "         -4.8146e-04,  2.2603e-02],\n",
      "        [-2.0053e-02, -2.0713e-03,  9.2455e-03,  ...,  2.2769e-02,\n",
      "         -2.5722e-02, -2.9550e-02],\n",
      "        [-2.7334e-02, -1.0442e-02, -3.1389e-02,  ...,  1.2103e-02,\n",
      "          2.0834e-02,  3.0840e-02]], requires_grad=True)\n",
      "Parameter containing:\n",
      "tensor([ 2.8218e-02, -1.8678e-02, -2.6594e-02,  7.5143e-03, -9.5557e-03,\n",
      "         2.6328e-02, -3.3626e-02, -3.3878e-02,  1.2509e-02,  9.4447e-03,\n",
      "         9.3817e-03,  1.7700e-02,  3.4182e-02, -3.1067e-02,  4.6821e-03,\n",
      "         2.4100e-02, -7.1094e-03,  4.6351e-03,  3.3566e-02, -3.0943e-02,\n",
      "         3.1544e-02,  1.7051e-02,  1.2043e-02, -6.4324e-03, -7.5512e-05,\n",
      "         1.8178e-02, -1.2020e-02, -3.3998e-02, -1.8611e-02, -7.8434e-03,\n",
      "         2.7762e-02, -2.9729e-02, -6.1392e-04,  3.5654e-03, -3.4770e-02,\n",
      "         8.4854e-03, -1.7805e-02,  5.7328e-03, -3.5286e-02,  3.0469e-02,\n",
      "        -3.1121e-02,  1.5761e-02,  1.9102e-02,  3.1236e-02,  1.4910e-02,\n",
      "         2.5418e-03, -3.5796e-03,  5.8502e-03,  3.1805e-02,  2.0577e-02,\n",
      "        -2.3725e-02, -7.4963e-03, -2.4016e-02, -1.8254e-02, -3.9915e-03,\n",
      "        -1.3999e-02,  2.8260e-02, -6.9213e-04,  4.3696e-03,  3.3946e-02,\n",
      "        -3.2198e-02, -1.3474e-02,  1.9555e-02,  1.7383e-02, -1.8311e-02,\n",
      "        -3.0188e-02, -3.3359e-02, -7.6910e-03,  3.1222e-02, -1.0947e-02,\n",
      "         2.5762e-02, -1.8658e-02, -1.6887e-02, -5.0820e-03, -3.3662e-02,\n",
      "         3.0665e-02,  1.9024e-02, -1.4434e-02, -2.1792e-02, -2.5328e-02,\n",
      "         2.9290e-02, -9.9843e-03,  6.5375e-03, -2.1720e-02,  7.0919e-03,\n",
      "         3.4421e-02,  4.8602e-03,  3.3073e-02,  7.2192e-03, -2.0245e-02,\n",
      "         1.8573e-02, -1.1035e-02,  3.2861e-02, -3.1885e-03, -2.6104e-02,\n",
      "         1.2505e-02,  3.3768e-02, -2.1913e-04, -3.1482e-02,  1.5111e-02,\n",
      "        -2.5898e-03,  3.1464e-02,  3.2226e-02,  3.4124e-02,  3.2952e-02,\n",
      "         8.7862e-04,  2.4814e-02,  2.0104e-02, -2.6241e-02,  2.9531e-03,\n",
      "        -3.2010e-03,  1.5042e-03,  1.7624e-02, -9.8837e-03, -1.6109e-02,\n",
      "         3.1899e-02,  5.1097e-03, -2.7628e-02, -3.4522e-02, -8.9324e-03,\n",
      "        -2.5508e-02,  1.7651e-02, -2.5652e-03,  2.9683e-02, -3.4444e-02,\n",
      "         1.1090e-02, -8.3192e-03, -1.9768e-02], requires_grad=True)\n"
     ]
    }
   ],
   "source": [
    "model=mynetwork()\n",
    "print(model.fc1.weight)\n",
    "print(model.fc1.bias)"
   ]
  },
  {
   "cell_type": "markdown",
   "metadata": {},
   "source": [
    "For custom initialization, we want to modify these tensors in place. These are actually autograd *Variables*, so we need to get back the actual tensors with `model.fc1.weight.data`. Once we have the tensors, we can fill them with zeros (for biases) or random normal values."
   ]
  },
  {
   "cell_type": "code",
   "execution_count": 120,
   "metadata": {},
   "outputs": [
    {
     "data": {
      "text/plain": [
       "tensor([0., 0., 0., 0., 0., 0., 0., 0., 0., 0., 0., 0., 0., 0., 0., 0., 0., 0., 0., 0., 0., 0., 0., 0.,\n",
       "        0., 0., 0., 0., 0., 0., 0., 0., 0., 0., 0., 0., 0., 0., 0., 0., 0., 0., 0., 0., 0., 0., 0., 0.,\n",
       "        0., 0., 0., 0., 0., 0., 0., 0., 0., 0., 0., 0., 0., 0., 0., 0., 0., 0., 0., 0., 0., 0., 0., 0.,\n",
       "        0., 0., 0., 0., 0., 0., 0., 0., 0., 0., 0., 0., 0., 0., 0., 0., 0., 0., 0., 0., 0., 0., 0., 0.,\n",
       "        0., 0., 0., 0., 0., 0., 0., 0., 0., 0., 0., 0., 0., 0., 0., 0., 0., 0., 0., 0., 0., 0., 0., 0.,\n",
       "        0., 0., 0., 0., 0., 0., 0., 0.])"
      ]
     },
     "execution_count": 120,
     "metadata": {},
     "output_type": "execute_result"
    }
   ],
   "source": [
    "# Set biases to all zeros\n",
    "model.fc1.bias.data.fill_(0)"
   ]
  },
  {
   "cell_type": "code",
   "execution_count": 121,
   "metadata": {},
   "outputs": [
    {
     "data": {
      "text/plain": [
       "tensor([[ 0.0027,  0.0079, -0.0127,  ...,  0.0070, -0.0018, -0.0078],\n",
       "        [-0.0007,  0.0131, -0.0003,  ...,  0.0063,  0.0003, -0.0033],\n",
       "        [ 0.0020, -0.0083,  0.0039,  ...,  0.0084, -0.0214, -0.0094],\n",
       "        ...,\n",
       "        [ 0.0142, -0.0001, -0.0018,  ..., -0.0032,  0.0251,  0.0070],\n",
       "        [-0.0074,  0.0135, -0.0093,  ...,  0.0010, -0.0050,  0.0040],\n",
       "        [-0.0088,  0.0143,  0.0048,  ...,  0.0196, -0.0104,  0.0006]])"
      ]
     },
     "execution_count": 121,
     "metadata": {},
     "output_type": "execute_result"
    }
   ],
   "source": [
    "# sample from random normal with standard dev = 0.01\n",
    "model.fc1.weight.data.normal_(std=0.01)"
   ]
  },
  {
   "cell_type": "markdown",
   "metadata": {},
   "source": [
    "### Forward pass\n",
    "\n",
    "Now that we have a network, let's see what happens when we pass in an image."
   ]
  },
  {
   "cell_type": "code",
   "execution_count": 122,
   "metadata": {},
   "outputs": [
    {
     "data": {
      "image/png": "[encoded data removed]",
      "text/plain": [
       "<Figure size 432x648 with 2 Axes>"
      ]
     },
     "metadata": {
      "image/png": {
       "height": 235,
       "width": 424
      },
      "needs_background": "light"
     },
     "output_type": "display_data"
    }
   ],
   "source": [
    "# Grab some data \n",
    "dataiter = iter(trainloader)\n",
    "images, labels = dataiter.next()\n",
    "\n",
    "# Resize images into a 1D vector, new shape is (batch size, color channels, image pixels) \n",
    "images.resize_(64, 1, 784)\n",
    "# or images.resize_(images.shape[0], 1, 784) to automatically get batch size\n",
    "\n",
    "# Forward pass through the network\n",
    "img_idx = 0\n",
    "ps = model.forward(images[img_idx,:])\n",
    "\n",
    "img = images[img_idx]\n",
    "helper.view_classify(img.view(1, 28, 28), ps)"
   ]
  },
  {
   "cell_type": "markdown",
   "metadata": {},
   "source": [
    "As you can see above, our network has basically no idea what this digit is. It's because we haven't trained it yet, all the weights are random!\n",
    "\n",
    "### Using `nn.Sequential`\n",
    "\n",
    "PyTorch provides a convenient way to build networks like this where a tensor is passed sequentially through operations, `nn.Sequential` ([documentation](https://pytorch.org/docs/master/nn.html#torch.nn.Sequential)). Using this to build the equivalent network:"
   ]
  },
  {
   "cell_type": "code",
   "execution_count": 123,
   "metadata": {},
   "outputs": [
    {
     "name": "stdout",
     "output_type": "stream",
     "text": [
      "Sequential(\n",
      "  (0): Linear(in_features=784, out_features=128, bias=True)\n",
      "  (1): ReLU()\n",
      "  (2): Linear(in_features=128, out_features=64, bias=True)\n",
      "  (3): ReLU()\n",
      "  (4): Linear(in_features=64, out_features=10, bias=True)\n",
      "  (5): Softmax(dim=1)\n",
      ")\n"
     ]
    },
    {
     "data": {
      "image/png": "[encoded data removed]",
      "text/plain": [
       "<Figure size 432x648 with 2 Axes>"
      ]
     },
     "metadata": {
      "image/png": {
       "height": 235,
       "width": 424
      },
      "needs_background": "light"
     },
     "output_type": "display_data"
    }
   ],
   "source": [
    "# Hyperparameters for our network\n",
    "input_size = 784\n",
    "hidden_sizes = [128, 64]\n",
    "output_size = 10\n",
    "\n",
    "# Build a feed-forward network\n",
    "model = nn.Sequential(nn.Linear(input_size, hidden_sizes[0]),\n",
    "                      nn.ReLU(),\n",
    "                      nn.Linear(hidden_sizes[0], hidden_sizes[1]),\n",
    "                      nn.ReLU(),\n",
    "                      nn.Linear(hidden_sizes[1], output_size),\n",
    "                      nn.Softmax(dim=1))\n",
    "print(model)\n",
    "\n",
    "# Forward pass through the network and display output\n",
    "images, labels = next(iter(trainloader))\n",
    "images.resize_(images.shape[0], 1, 784)\n",
    "ps = model.forward(images[0,:])\n",
    "helper.view_classify(images[0].view(1, 28, 28), ps)"
   ]
  },
  {
   "cell_type": "markdown",
   "metadata": {},
   "source": [
    "Here our model is the same as before: 784 input units, a hidden layer with 128 units, ReLU activation, 64 unit hidden layer, another ReLU, then the output layer with 10 units, and the softmax output.\n",
    "\n",
    "The operations are available by passing in the appropriate index. For example, if you want to get first Linear operation and look at the weights, you'd use `model[0]`."
   ]
  },
  {
   "cell_type": "code",
   "execution_count": 124,
   "metadata": {},
   "outputs": [
    {
     "name": "stdout",
     "output_type": "stream",
     "text": [
      "Linear(in_features=784, out_features=128, bias=True)\n"
     ]
    },
    {
     "data": {
      "text/plain": [
       "Parameter containing:\n",
       "tensor([[-0.0199,  0.0160, -0.0346,  ..., -0.0093,  0.0293, -0.0058],\n",
       "        [ 0.0309,  0.0314,  0.0328,  ..., -0.0010, -0.0291,  0.0239],\n",
       "        [-0.0179, -0.0337,  0.0262,  ...,  0.0126, -0.0314, -0.0269],\n",
       "        ...,\n",
       "        [-0.0266,  0.0241,  0.0070,  ...,  0.0231, -0.0275, -0.0077],\n",
       "        [ 0.0056, -0.0140,  0.0075,  ...,  0.0327,  0.0244,  0.0273],\n",
       "        [ 0.0127,  0.0342, -0.0099,  ..., -0.0257, -0.0356,  0.0263]],\n",
       "       requires_grad=True)"
      ]
     },
     "execution_count": 124,
     "metadata": {},
     "output_type": "execute_result"
    }
   ],
   "source": [
    "print(model[0])\n",
    "model[0].weight"
   ]
  },
  {
   "cell_type": "markdown",
   "metadata": {},
   "source": [
    "You can also pass in an `OrderedDict` to name the individual layers and operations, instead of using incremental integers. Note that dictionary keys must be unique, so _each operation must have a different name_."
   ]
  },
  {
   "cell_type": "code",
   "execution_count": 125,
   "metadata": {},
   "outputs": [
    {
     "data": {
      "text/plain": [
       "Sequential(\n",
       "  (fc1): Linear(in_features=784, out_features=128, bias=True)\n",
       "  (relu1): ReLU()\n",
       "  (fc2): Linear(in_features=128, out_features=64, bias=True)\n",
       "  (relu2): ReLU()\n",
       "  (output): Linear(in_features=64, out_features=10, bias=True)\n",
       "  (softmax): Softmax(dim=1)\n",
       ")"
      ]
     },
     "execution_count": 125,
     "metadata": {},
     "output_type": "execute_result"
    }
   ],
   "source": [
    "from collections import OrderedDict\n",
    "model = nn.Sequential(OrderedDict([\n",
    "                      ('fc1', nn.Linear(input_size, hidden_sizes[0])),\n",
    "                      ('relu1', nn.ReLU()),\n",
    "                      ('fc2', nn.Linear(hidden_sizes[0], hidden_sizes[1])),\n",
    "                      ('relu2', nn.ReLU()),\n",
    "                      ('output', nn.Linear(hidden_sizes[1], output_size)),\n",
    "                      ('softmax', nn.Softmax(dim=1))]))\n",
    "model"
   ]
  },
  {
   "cell_type": "markdown",
   "metadata": {},
   "source": [
    "Now you can access layers either by integer or the name"
   ]
  },
  {
   "cell_type": "code",
   "execution_count": 126,
   "metadata": {},
   "outputs": [
    {
     "name": "stdout",
     "output_type": "stream",
     "text": [
      "Linear(in_features=784, out_features=128, bias=True)\n",
      "Linear(in_features=784, out_features=128, bias=True)\n"
     ]
    }
   ],
   "source": [
    "print(model[0])\n",
    "print(model.fc1)"
   ]
  },
  {
   "cell_type": "markdown",
   "metadata": {},
   "source": [
    "In the next notebook, we'll see how we can train a neural network to accuractly predict the numbers appearing in the MNIST images."
   ]
  }
 ],
 "metadata": {
  "kernelspec": {
   "display_name": "Python 3",
   "language": "python",
   "name": "python3"
  },
  "language_info": {
   "codemirror_mode": {
    "name": "ipython",
    "version": 3
   },
   "file_extension": ".py",
   "mimetype": "text/x-python",
   "name": "python",
   "nbconvert_exporter": "python",
   "pygments_lexer": "ipython3",
   "version": "3.6.9"
  }
 },
 "nbformat": 4,
 "nbformat_minor": 2
}
