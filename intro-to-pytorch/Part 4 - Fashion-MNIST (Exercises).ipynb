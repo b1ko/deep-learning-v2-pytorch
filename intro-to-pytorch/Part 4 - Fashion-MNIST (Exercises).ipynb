{
 "cells": [
  {
   "cell_type": "markdown",
   "metadata": {},
   "source": [
    "# Classifying Fashion-MNIST\n",
    "\n",
    "Now it's your turn to build and train a neural network. You'll be using the [Fashion-MNIST dataset](https://github.com/zalandoresearch/fashion-mnist), a drop-in replacement for the MNIST dataset. MNIST is actually quite trivial with neural networks where you can easily achieve better than 97% accuracy. Fashion-MNIST is a set of 28x28 greyscale images of clothes. It's more complex than MNIST, so it's a better representation of the actual performance of your network, and a better representation of datasets you'll use in the real world.\n",
    "\n",
    "<img src='assets/fashion-mnist-sprite.png' width=500px>\n",
    "\n",
    "In this notebook, you'll build your own neural network. For the most part, you could just copy and paste the code from Part 3, but you wouldn't be learning. It's important for you to write the code yourself and get it to work. Feel free to consult the previous notebooks though as you work through this.\n",
    "\n",
    "First off, let's load the dataset through torchvision."
   ]
  },
  {
   "cell_type": "code",
   "execution_count": 1,
   "metadata": {},
   "outputs": [
    {
     "name": "stdout",
     "output_type": "stream",
     "text": [
      "Downloading http://fashion-mnist.s3-website.eu-central-1.amazonaws.com/train-images-idx3-ubyte.gz to C:\\Users\\Mohamed.Bakir/.pytorch/F_MNIST_data/FashionMNIST\\raw\\train-images-idx3-ubyte.gz\n"
     ]
    },
    {
     "name": "stderr",
     "output_type": "stream",
     "text": [
      "100%|██████████████████████████████████████████████████████████████████████████████████████████████████████████████████████████████████████████████████████████▌| 26353664/26421880 [00:17<00:00, 1727996.99it/s]"
     ]
    },
    {
     "name": "stdout",
     "output_type": "stream",
     "text": [
      "Extracting C:\\Users\\Mohamed.Bakir/.pytorch/F_MNIST_data/FashionMNIST\\raw\\train-images-idx3-ubyte.gz to C:\\Users\\Mohamed.Bakir/.pytorch/F_MNIST_data/FashionMNIST\\raw\n",
      "Downloading http://fashion-mnist.s3-website.eu-central-1.amazonaws.com/train-labels-idx1-ubyte.gz to C:\\Users\\Mohamed.Bakir/.pytorch/F_MNIST_data/FashionMNIST\\raw\\train-labels-idx1-ubyte.gz\n"
     ]
    },
    {
     "name": "stderr",
     "output_type": "stream",
     "text": [
      "\n",
      "0it [00:00, ?it/s]\n",
      "  0%|                                                                                                                                                                                  | 0/29515 [00:00<?, ?it/s]\n",
      "32768it [00:00, 81062.74it/s]                                                                                                                                                                                    "
     ]
    },
    {
     "name": "stdout",
     "output_type": "stream",
     "text": [
      "Extracting C:\\Users\\Mohamed.Bakir/.pytorch/F_MNIST_data/FashionMNIST\\raw\\train-labels-idx1-ubyte.gz to C:\\Users\\Mohamed.Bakir/.pytorch/F_MNIST_data/FashionMNIST\\raw\n",
      "Downloading http://fashion-mnist.s3-website.eu-central-1.amazonaws.com/t10k-images-idx3-ubyte.gz to C:\\Users\\Mohamed.Bakir/.pytorch/F_MNIST_data/FashionMNIST\\raw\\t10k-images-idx3-ubyte.gz\n"
     ]
    },
    {
     "name": "stderr",
     "output_type": "stream",
     "text": [
      "\n",
      "0it [00:00, ?it/s]\n",
      "  0%|                                                                                                                                                                                | 0/4422102 [00:00<?, ?it/s]\n",
      "  1%|█▏                                                                                                                                                              | 32768/4422102 [00:00<00:13, 321617.26it/s]\n",
      "  2%|██▋                                                                                                                                                             | 73728/4422102 [00:00<00:12, 337558.41it/s]\n",
      "  2%|███▌                                                                                                                                                            | 98304/4422102 [00:00<00:15, 273420.01it/s]\n",
      "  5%|███████▋                                                                                                                                                       | 212992/4422102 [00:00<00:11, 353047.56it/s]\n",
      "  6%|██████████▎                                                                                                                                                    | 286720/4422102 [00:00<00:10, 411703.52it/s]\n",
      "  8%|████████████▉                                                                                                                                                  | 360448/4422102 [00:00<00:08, 467950.34it/s]\n",
      " 10%|███████████████▉                                                                                                                                               | 442368/4422102 [00:00<00:07, 529117.97it/s]\n",
      " 12%|██████████████████▊                                                                                                                                            | 524288/4422102 [00:01<00:06, 578247.16it/s]\n",
      " 14%|██████████████████████                                                                                                                                         | 614400/4422102 [00:01<00:06, 632626.59it/s]\n",
      " 16%|█████████████████████████                                                                                                                                      | 696320/4422102 [00:01<00:05, 674006.90it/s]\n",
      " 18%|███████████████████████████▉                                                                                                                                   | 778240/4422102 [00:01<00:05, 710716.89it/s]\n",
      " 19%|██████████████████████████████▉                                                                                                                                | 860160/4422102 [00:01<00:04, 729719.80it/s]\n",
      " 21%|█████████████████████████████████▊                                                                                                                             | 942080/4422102 [00:01<00:04, 733738.35it/s]\n",
      " 23%|████████████████████████████████████▌                                                                                                                         | 1024000/4422102 [00:01<00:04, 714341.64it/s]\n",
      " 25%|███████████████████████████████████████▏                                                                                                                      | 1097728/4422102 [00:01<00:05, 597804.56it/s]\n",
      " 26%|█████████████████████████████████████████▌                                                                                                                    | 1163264/4422102 [00:02<00:05, 581114.46it/s]\n",
      " 28%|███████████████████████████████████████████▉                                                                                                                  | 1228800/4422102 [00:02<00:06, 480268.57it/s]\n",
      " 30%|███████████████████████████████████████████████▍                                                                                                              | 1327104/4422102 [00:02<00:05, 563786.37it/s]\n",
      " 32%|██████████████████████████████████████████████████                                                                                                            | 1400832/4422102 [00:02<00:05, 521435.15it/s]\n",
      " 33%|████████████████████████████████████████████████████▍                                                                                                         | 1466368/4422102 [00:02<00:05, 503583.07it/s]\n",
      " 34%|██████████████████████████████████████████████████████▍                                                                                                       | 1523712/4422102 [00:02<00:05, 514552.44it/s]\n",
      " 36%|████████████████████████████████████████████████████████▍                                                                                                     | 1581056/4422102 [00:02<00:05, 515070.05it/s]\n",
      " 37%|██████████████████████████████████████████████████████████▌                                                                                                   | 1638400/4422102 [00:02<00:05, 525037.60it/s]\n",
      " 38%|████████████████████████████████████████████████████████████▌                                                                                                 | 1695744/4422102 [00:03<00:05, 496705.07it/s]\n",
      " 40%|██████████████████████████████████████████████████████████████▋                                                                                               | 1753088/4422102 [00:03<00:05, 513203.38it/s]\n",
      " 41%|████████████████████████████████████████████████████████████████▋                                                                                             | 1810432/4422102 [00:03<00:04, 525431.90it/s]\n",
      " 42%|██████████████████████████████████████████████████████████████████▋                                                                                           | 1867776/4422102 [00:03<00:04, 532527.62it/s]\n",
      " 44%|████████████████████████████████████████████████████████████████████▊                                                                                         | 1925120/4422102 [00:03<00:04, 543048.30it/s]\n",
      " 45%|███████████████████████████████████████████████████████████████████████▏                                                                                      | 1990656/4422102 [00:03<00:04, 529405.00it/s]\n",
      " 46%|█████████████████████████████████████████████████████████████████████████▏                                                                                    | 2048000/4422102 [00:03<00:04, 537762.99it/s]\n",
      " 48%|███████████████████████████████████████████████████████████████████████████▌                                                                                  | 2113536/4422102 [00:03<00:04, 558950.59it/s]\n",
      " 49%|█████████████████████████████████████████████████████████████████████████████▊                                                                                | 2179072/4422102 [00:03<00:03, 562107.71it/s]\n",
      " 51%|███████████████████████████████████████████████████████████████████████████████▉                                                                              | 2236416/4422102 [00:04<00:03, 565236.60it/s]\n",
      " 52%|█████████████████████████████████████████████████████████████████████████████████▉                                                                            | 2293760/4422102 [00:04<00:04, 518190.96it/s]\n",
      " 53%|████████████████████████████████████████████████████████████████████████████████████▎                                                                         | 2359296/4422102 [00:04<00:03, 542297.87it/s]\n",
      " 55%|██████████████████████████████████████████████████████████████████████████████████████▋                                                                       | 2424832/4422102 [00:04<00:03, 551061.64it/s]\n",
      " 56%|████████████████████████████████████████████████████████████████████████████████████████▉                                                                     | 2490368/4422102 [00:04<00:03, 565042.33it/s]\n"
     ]
    },
    {
     "name": "stderr",
     "output_type": "stream",
     "text": [
      " 58%|███████████████████████████████████████████████████████████████████████████████████████████▎                                                                  | 2555904/4422102 [00:04<00:03, 585423.09it/s]\n",
      " 59%|█████████████████████████████████████████████████████████████████████████████████████████████▋                                                                | 2621440/4422102 [00:04<00:02, 603715.24it/s]\n",
      " 61%|████████████████████████████████████████████████████████████████████████████████████████████████▎                                                             | 2695168/4422102 [00:04<00:02, 620053.28it/s]\n",
      " 62%|██████████████████████████████████████████████████████████████████████████████████████████████████▋                                                           | 2760704/4422102 [00:04<00:02, 615754.80it/s]\n",
      " 64%|█████████████████████████████████████████████████████████████████████████████████████████████████████▎                                                        | 2834432/4422102 [00:05<00:02, 629876.76it/s]\n",
      " 66%|███████████████████████████████████████████████████████████████████████████████████████████████████████▉                                                      | 2908160/4422102 [00:05<00:02, 641648.14it/s]\n",
      " 67%|██████████████████████████████████████████████████████████████████████████████████████████████████████████▌                                                   | 2981888/4422102 [00:05<00:02, 655287.51it/s]\n",
      " 69%|█████████████████████████████████████████████████████████████████████████████████████████████████████████████▏                                                | 3055616/4422102 [00:05<00:02, 662401.69it/s]\n",
      " 71%|███████████████████████████████████████████████████████████████████████████████████████████████████████████████▊                                              | 3129344/4422102 [00:05<00:01, 662706.22it/s]\n",
      " 72%|██████████████████████████████████████████████████████████████████████████████████████████████████████████████████▍                                           | 3203072/4422102 [00:05<00:01, 671535.03it/s]\n",
      " 74%|█████████████████████████████████████████████████████████████████████████████████████████████████████████████████████                                         | 3276800/4422102 [00:05<00:01, 669747.28it/s]\n",
      " 76%|███████████████████████████████████████████████████████████████████████████████████████████████████████████████████████▋                                      | 3350528/4422102 [00:06<00:02, 357690.83it/s]\n",
      " 78%|██████████████████████████████████████████████████████████████████████████████████████████████████████████████████████████▋                                   | 3432448/4422102 [00:06<00:02, 425994.17it/s]\n",
      " 79%|████████████████████████████████████████████████████████████████████████████████████████████████████████████████████████████▉                                 | 3497984/4422102 [00:06<00:02, 447923.54it/s]\n",
      " 80%|███████████████████████████████████████████████████████████████████████████████████████████████████████████████████████████████                               | 3555328/4422102 [00:06<00:02, 392245.28it/s]\n",
      " 82%|█████████████████████████████████████████████████████████████████████████████████████████████████████████████████████████████████▎                            | 3620864/4422102 [00:06<00:01, 439591.84it/s]\n",
      " 83%|███████████████████████████████████████████████████████████████████████████████████████████████████████████████████████████████████▍                          | 3678208/4422102 [00:06<00:01, 415128.81it/s]\n",
      " 84%|█████████████████████████████████████████████████████████████████████████████████████████████████████████████████████████████████████▏                        | 3727360/4422102 [00:06<00:01, 424570.64it/s]\n",
      " 85%|██████████████████████████████████████████████████████████████████████████████████████████████████████████████████████████████████████▉                       | 3776512/4422102 [00:07<00:01, 431348.88it/s]\n",
      " 87%|████████████████████████████████████████████████████████████████████████████████████████████████████████████████████████████████████████▋                     | 3825664/4422102 [00:07<00:01, 413180.27it/s]\n",
      " 88%|██████████████████████████████████████████████████████████████████████████████████████████████████████████████████████████████████████████▍                   | 3874816/4422102 [00:07<00:01, 423053.96it/s]\n",
      " 89%|████████████████████████████████████████████████████████████████████████████████████████████████████████████████████████████████████████████▏                 | 3923968/4422102 [00:07<00:01, 434925.77it/s]\n",
      " 90%|█████████████████████████████████████████████████████████████████████████████████████████████████████████████████████████████████████████████▉                | 3973120/4422102 [00:07<00:00, 450401.73it/s]\n",
      " 91%|███████████████████████████████████████████████████████████████████████████████████████████████████████████████████████████████████████████████▋              | 4022272/4422102 [00:07<00:00, 454396.17it/s]\n",
      " 92%|█████████████████████████████████████████████████████████████████████████████████████████████████████████████████████████████████████████████████▍            | 4071424/4422102 [00:07<00:00, 431957.64it/s]\n",
      " 93%|███████████████████████████████████████████████████████████████████████████████████████████████████████████████████████████████████████████████████▌          | 4128768/4422102 [00:07<00:00, 449281.45it/s]\n",
      " 94%|█████████████████████████████████████████████████████████████████████████████████████████████████████████████████████████████████████████████████████▎        | 4177920/4422102 [00:07<00:00, 451371.53it/s]\n",
      " 96%|███████████████████████████████████████████████████████████████████████████████████████████████████████████████████████████████████████████████████████       | 4227072/4422102 [00:08<00:00, 454087.41it/s]\n",
      " 97%|████████████████████████████████████████████████████████████████████████████████████████████████████████████████████████████████████████████████████████▊     | 4276224/4422102 [00:08<00:00, 455960.86it/s]\n",
      " 98%|██████████████████████████████████████████████████████████████████████████████████████████████████████████████████████████████████████████████████████████▌   | 4325376/4422102 [00:08<00:00, 435033.12it/s]\n",
      " 99%|████████████████████████████████████████████████████████████████████████████████████████████████████████████████████████████████████████████████████████████▌ | 4382720/4422102 [00:08<00:00, 462507.93it/s]"
     ]
    },
    {
     "name": "stdout",
     "output_type": "stream",
     "text": [
      "Extracting C:\\Users\\Mohamed.Bakir/.pytorch/F_MNIST_data/FashionMNIST\\raw\\t10k-images-idx3-ubyte.gz to C:\\Users\\Mohamed.Bakir/.pytorch/F_MNIST_data/FashionMNIST\\raw\n",
      "Downloading http://fashion-mnist.s3-website.eu-central-1.amazonaws.com/t10k-labels-idx1-ubyte.gz to C:\\Users\\Mohamed.Bakir/.pytorch/F_MNIST_data/FashionMNIST\\raw\\t10k-labels-idx1-ubyte.gz\n"
     ]
    },
    {
     "name": "stderr",
     "output_type": "stream",
     "text": [
      "\n",
      "\n",
      "0it [00:00, ?it/s]\n",
      "\n",
      "  0%|                                                                                                                                                                                   | 0/5148 [00:00<?, ?it/s]\n",
      "\n",
      "8192it [00:00, 28453.90it/s]                                                                                                                                                                                     "
     ]
    },
    {
     "name": "stdout",
     "output_type": "stream",
     "text": [
      "Extracting C:\\Users\\Mohamed.Bakir/.pytorch/F_MNIST_data/FashionMNIST\\raw\\t10k-labels-idx1-ubyte.gz to C:\\Users\\Mohamed.Bakir/.pytorch/F_MNIST_data/FashionMNIST\\raw\n",
      "Processing...\n",
      "Done!\n"
     ]
    }
   ],
   "source": [
    "import torch\n",
    "from torchvision import datasets, transforms\n",
    "import helper\n",
    "\n",
    "# Define a transform to normalize the data\n",
    "transform = transforms.Compose([transforms.ToTensor(),\n",
    "                                transforms.Normalize((0.5,), (0.5,))])\n",
    "# Download and load the training data\n",
    "trainset = datasets.FashionMNIST('~/.pytorch/F_MNIST_data/', download=True, train=True, transform=transform)\n",
    "trainloader = torch.utils.data.DataLoader(trainset, batch_size=64, shuffle=True)\n",
    "\n",
    "# Download and load the test data\n",
    "testset = datasets.FashionMNIST('~/.pytorch/F_MNIST_data/', download=True, train=False, transform=transform)\n",
    "testloader = torch.utils.data.DataLoader(testset, batch_size=64, shuffle=True)"
   ]
  },
  {
   "cell_type": "markdown",
   "metadata": {},
   "source": [
    "Here we can see one of the images."
   ]
  },
  {
   "cell_type": "code",
   "execution_count": 2,
   "metadata": {},
   "outputs": [
    {
     "name": "stderr",
     "output_type": "stream",
     "text": [
      "\r",
      "26427392it [00:29, 1727996.99it/s]                                                                                                                                                                               "
     ]
    },
    {
     "data": {
      "image/png": "[encoded data removed]",
      "text/plain": [
       "<Figure size 432x288 with 1 Axes>"
      ]
     },
     "metadata": {
      "needs_background": "light"
     },
     "output_type": "display_data"
    },
    {
     "name": "stderr",
     "output_type": "stream",
     "text": [
      "\n",
      "4423680it [00:21, 462507.93it/s]                                                                                                                                                                                 "
     ]
    }
   ],
   "source": [
    "image, label = next(iter(trainloader))\n",
    "helper.imshow(image[0,:]);"
   ]
  },
  {
   "cell_type": "markdown",
   "metadata": {},
   "source": [
    "## Building the network\n",
    "\n",
    "Here you should define your network. As with MNIST, each image is 28x28 which is a total of 784 pixels, and there are 10 classes. You should include at least one hidden layer. We suggest you use ReLU activations for the layers and to return the logits or log-softmax from the forward pass. It's up to you how many layers you add and the size of those layers."
   ]
  },
  {
   "cell_type": "code",
   "execution_count": 22,
   "metadata": {},
   "outputs": [
    {
     "name": "stdout",
     "output_type": "stream",
     "text": [
      "tensor(2.2830, grad_fn=<NllLossBackward>)\n"
     ]
    }
   ],
   "source": [
    "# TODO: Define your network architecture here\n",
    "from torch import nn\n",
    "import torch.nn.functional as F\n",
    "\n",
    "model = nn.Sequential(nn.Linear(784,128),\n",
    "                     nn.ReLU(),\n",
    "                     nn.Linear(128,64),\n",
    "                     nn.ReLU(),\n",
    "                     nn.Linear(64,10),\n",
    "                     nn.LogSoftmax(dim=1))\n",
    "\n",
    "\n",
    "\n",
    "images,labels = next(iter(trainloader))\n",
    "\n",
    "images = images.view(images.shape[0],-1)\n",
    "\n",
    "logits=model(images)\n",
    "\n",
    "loss=criterion(logits,labels)\n",
    "\n",
    "print(loss)\n"
   ]
  },
  {
   "cell_type": "markdown",
   "metadata": {},
   "source": [
    "# Train the network\n",
    "\n",
    "Now you should create your network and train it. First you'll want to define [the criterion](http://pytorch.org/docs/master/nn.html#loss-functions) ( something like `nn.CrossEntropyLoss`) and [the optimizer](http://pytorch.org/docs/master/optim.html) (typically `optim.SGD` or `optim.Adam`).\n",
    "\n",
    "Then write the training code. Remember the training pass is a fairly straightforward process:\n",
    "\n",
    "* Make a forward pass through the network to get the logits \n",
    "* Use the logits to calculate the loss\n",
    "* Perform a backward pass through the network with `loss.backward()` to calculate the gradients\n",
    "* Take a step with the optimizer to update the weights\n",
    "\n",
    "By adjusting the hyperparameters (hidden units, learning rate, etc), you should be able to get the training loss below 0.4."
   ]
  },
  {
   "cell_type": "code",
   "execution_count": 23,
   "metadata": {},
   "outputs": [],
   "source": [
    "# TODO: Create the network, define the criterion and optimizer\n",
    "from torch import optim\n",
    "\n",
    "criterion = nn.NLLLoss()\n",
    "\n",
    "optimizer = optim.SGD(model.parameters(), lr=0.1)\n"
   ]
  },
  {
   "cell_type": "code",
   "execution_count": 24,
   "metadata": {},
   "outputs": [
    {
     "name": "stdout",
     "output_type": "stream",
     "text": [
      "Training loss: 0.5818714777162588\n",
      "Training loss: 0.40571933887851264\n",
      "Training loss: 0.36520180122049123\n",
      "Training loss: 0.3375344396050551\n",
      "Training loss: 0.31631698723096074\n"
     ]
    }
   ],
   "source": [
    "# TODO: Train the network here\n",
    "\n",
    "epochs=5\n",
    "\n",
    "for e in range(epochs):\n",
    "    running_loss=0\n",
    "    for images,labels in trainloader:\n",
    "        \n",
    "        images=images.view(images.shape[0],-1)\n",
    "        out=model(images)\n",
    "        optimizer.zero_grad()\n",
    "        loss = criterion(out,labels)        \n",
    "        \n",
    "        loss.backward()\n",
    "        optimizer.step()\n",
    "        running_loss+=loss.item()\n",
    "    else:\n",
    "        print(f\"Training loss: {running_loss/len(trainloader)}\")\n"
   ]
  },
  {
   "cell_type": "code",
   "execution_count": 33,
   "metadata": {},
   "outputs": [
    {
     "data": {
      "image/png": "[encoded data removed]",
      "text/plain": [
       "<Figure size 432x648 with 2 Axes>"
      ]
     },
     "metadata": {
      "image/png": {
       "height": 206,
       "width": 423
      },
      "needs_background": "light"
     },
     "output_type": "display_data"
    }
   ],
   "source": [
    "%matplotlib inline\n",
    "%config InlineBackend.figure_format = 'retina'\n",
    "\n",
    "import helper\n",
    "\n",
    "# Test out your network!\n",
    "\n",
    "dataiter = iter(testloader)\n",
    "images, labels = dataiter.next()\n",
    "img = images[0]\n",
    "# Convert 2D image to 1D vector\n",
    "img = img.resize_(1, 784)\n",
    "\n",
    "# TODO: Calculate the class probabilities (softmax) for img\n",
    "with torch.no_grad():\n",
    "    logps = model(img)\n",
    "\n",
    "ps = torch.exp(logps)\n",
    "\n",
    "# Plot the image and probabilities\n",
    "helper.view_classify(img.resize_(1, 28, 28), ps, version='Fashion')"
   ]
  },
  {
   "cell_type": "code",
   "execution_count": null,
   "metadata": {},
   "outputs": [],
   "source": []
  }
 ],
 "metadata": {
  "kernelspec": {
   "display_name": "Python 3",
   "language": "python",
   "name": "python3"
  },
  "language_info": {
   "codemirror_mode": {
    "name": "ipython",
    "version": 3
   },
   "file_extension": ".py",
   "mimetype": "text/x-python",
   "name": "python",
   "nbconvert_exporter": "python",
   "pygments_lexer": "ipython3",
   "version": "3.7.3"
  }
 },
 "nbformat": 4,
 "nbformat_minor": 2
}
